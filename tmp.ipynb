{
 "cells": [
  {
   "cell_type": "code",
   "execution_count": 63,
   "metadata": {},
   "outputs": [
    {
     "name": "stdout",
     "output_type": "stream",
     "text": [
      "The autoreload extension is already loaded. To reload it, use:\n",
      "  %reload_ext autoreload\n",
      "nc2gtiff\n",
      "geotiff2geotiff\n",
      "nc2gtiff\n",
      "geotiff2geotiff\n"
     ]
    }
   ],
   "source": [
    "%load_ext autoreload\n",
    "%autoreload 2\n",
    "import convert\n",
    "file = \"./data/nc/ice_drift_nh_polstere-625_multi-oi_201902271200-201903011200.nc\"\n",
    "convert.nc2gtiff(file)"
   ]
  },
  {
   "cell_type": "code",
   "execution_count": 31,
   "metadata": {},
   "outputs": [
    {
     "data": {
      "text/plain": [
       "<matplotlib.contour.QuadContourSet at 0x11d954390>"
      ]
     },
     "execution_count": 31,
     "metadata": {},
     "output_type": "execute_result"
    },
    {
     "data": {
      "image/png": "[encoded data removed]",
      "text/plain": [
       "<Figure size 432x288 with 1 Axes>"
      ]
     },
     "metadata": {
      "needs_background": "light"
     },
     "output_type": "display_data"
    }
   ],
   "source": [
    "from netCDF4 import Dataset\n",
    "import matplotlib.pyplot as plt\n",
    "import numpy as np\n",
    "nc = Dataset(file)\n",
    "lat = nc.variables[\"lat\"][:]\n",
    "X = nc.variables[\"xc\"][:]\n",
    "Y = nc.variables[\"yc\"][:]\n",
    "Z = nc.variables[\"dX\"][0]\n",
    "Z[lat>85]=np.nan\n",
    "plt.contourf(X,Y,Z)"
   ]
  },
  {
   "cell_type": "code",
   "execution_count": 47,
   "metadata": {},
   "outputs": [
    {
     "data": {
      "text/plain": [
       "masked_array(data=[-3750. , -3687.5, -3625. , -3562.5, -3500. , -3437.5,\n",
       "                   -3375. , -3312.5, -3250. , -3187.5, -3125. , -3062.5,\n",
       "                   -3000. , -2937.5, -2875. , -2812.5, -2750. , -2687.5,\n",
       "                   -2625. , -2562.5, -2500. , -2437.5, -2375. , -2312.5,\n",
       "                   -2250. , -2187.5, -2125. , -2062.5, -2000. , -1937.5,\n",
       "                   -1875. , -1812.5, -1750. , -1687.5, -1625. , -1562.5,\n",
       "                   -1500. , -1437.5, -1375. , -1312.5, -1250. , -1187.5,\n",
       "                   -1125. , -1062.5, -1000. ,  -937.5,  -875. ,  -812.5,\n",
       "                    -750. ,  -687.5,  -625. ,  -562.5,  -500. ,  -437.5,\n",
       "                    -375. ,  -312.5,  -250. ,  -187.5,  -125. ,   -62.5,\n",
       "                       0. ,    62.5,   125. ,   187.5,   250. ,   312.5,\n",
       "                     375. ,   437.5,   500. ,   562.5,   625. ,   687.5,\n",
       "                     750. ,   812.5,   875. ,   937.5,  1000. ,  1062.5,\n",
       "                    1125. ,  1187.5,  1250. ,  1312.5,  1375. ,  1437.5,\n",
       "                    1500. ,  1562.5,  1625. ,  1687.5,  1750. ,  1812.5,\n",
       "                    1875. ,  1937.5,  2000. ,  2062.5,  2125. ,  2187.5,\n",
       "                    2250. ,  2312.5,  2375. ,  2437.5,  2500. ,  2562.5,\n",
       "                    2625. ,  2687.5,  2750. ,  2812.5,  2875. ,  2937.5,\n",
       "                    3000. ,  3062.5,  3125. ,  3187.5,  3250. ,  3312.5,\n",
       "                    3375. ,  3437.5,  3500. ,  3562.5,  3625. ],\n",
       "             mask=False,\n",
       "       fill_value=1e+20)"
      ]
     },
     "execution_count": 47,
     "metadata": {},
     "output_type": "execute_result"
    }
   ],
   "source": [
    "nc.variables[\"xc\"][:]"
   ]
  },
  {
   "cell_type": "code",
   "execution_count": 48,
   "metadata": {},
   "outputs": [
    {
     "data": {
      "text/plain": [
       "masked_array(data=[ 5750. ,  5687.5,  5625. ,  5562.5,  5500. ,  5437.5,\n",
       "                    5375. ,  5312.5,  5250. ,  5187.5,  5125. ,  5062.5,\n",
       "                    5000. ,  4937.5,  4875. ,  4812.5,  4750. ,  4687.5,\n",
       "                    4625. ,  4562.5,  4500. ,  4437.5,  4375. ,  4312.5,\n",
       "                    4250. ,  4187.5,  4125. ,  4062.5,  4000. ,  3937.5,\n",
       "                    3875. ,  3812.5,  3750. ,  3687.5,  3625. ,  3562.5,\n",
       "                    3500. ,  3437.5,  3375. ,  3312.5,  3250. ,  3187.5,\n",
       "                    3125. ,  3062.5,  3000. ,  2937.5,  2875. ,  2812.5,\n",
       "                    2750. ,  2687.5,  2625. ,  2562.5,  2500. ,  2437.5,\n",
       "                    2375. ,  2312.5,  2250. ,  2187.5,  2125. ,  2062.5,\n",
       "                    2000. ,  1937.5,  1875. ,  1812.5,  1750. ,  1687.5,\n",
       "                    1625. ,  1562.5,  1500. ,  1437.5,  1375. ,  1312.5,\n",
       "                    1250. ,  1187.5,  1125. ,  1062.5,  1000. ,   937.5,\n",
       "                     875. ,   812.5,   750. ,   687.5,   625. ,   562.5,\n",
       "                     500. ,   437.5,   375. ,   312.5,   250. ,   187.5,\n",
       "                     125. ,    62.5,     0. ,   -62.5,  -125. ,  -187.5,\n",
       "                    -250. ,  -312.5,  -375. ,  -437.5,  -500. ,  -562.5,\n",
       "                    -625. ,  -687.5,  -750. ,  -812.5,  -875. ,  -937.5,\n",
       "                   -1000. , -1062.5, -1125. , -1187.5, -1250. , -1312.5,\n",
       "                   -1375. , -1437.5, -1500. , -1562.5, -1625. , -1687.5,\n",
       "                   -1750. , -1812.5, -1875. , -1937.5, -2000. , -2062.5,\n",
       "                   -2125. , -2187.5, -2250. , -2312.5, -2375. , -2437.5,\n",
       "                   -2500. , -2562.5, -2625. , -2687.5, -2750. , -2812.5,\n",
       "                   -2875. , -2937.5, -3000. , -3062.5, -3125. , -3187.5,\n",
       "                   -3250. , -3312.5, -3375. , -3437.5, -3500. , -3562.5,\n",
       "                   -3625. , -3687.5, -3750. , -3812.5, -3875. , -3937.5,\n",
       "                   -4000. , -4062.5, -4125. , -4187.5, -4250. , -4312.5,\n",
       "                   -4375. , -4437.5, -4500. , -4562.5, -4625. , -4687.5,\n",
       "                   -4750. , -4812.5, -4875. , -4937.5, -5000. , -5062.5,\n",
       "                   -5125. , -5187.5, -5250. ],\n",
       "             mask=False,\n",
       "       fill_value=1e+20)"
      ]
     },
     "execution_count": 48,
     "metadata": {},
     "output_type": "execute_result"
    }
   ],
   "source": [
    "nc.variables[\"yc\"][:]"
   ]
  },
  {
   "cell_type": "code",
   "execution_count": 77,
   "metadata": {
    "scrolled": false
   },
   "outputs": [
    {
     "data": {
      "text/plain": [
       "<class 'netCDF4._netCDF4.Dataset'>\n",
       "root group (NETCDF3_CLASSIC data model, file format NETCDF3):\n",
       "    title: Daily Low Resolution Sea Ice Displacement from OSI SAF EUMETSAT\n",
       "    product_id: OSI-405\n",
       "    product_name: osi_saf_lr_ice_drift\n",
       "    product_status: operational\n",
       "    abstract: Gridded ice displacement fields obtained from  satellite  image\n",
       "processing. It is a low resolution product (62.5km resolution).\n",
       "The time span of  the  ice  displacement  is  approximately  48\n",
       "hours. This dataset is intended both for  process  studies  and\n",
       "data assimilation. Daily products  are  freely  available  from\n",
       "the  OSI SAF distribution chain.\n",
       "    topiccategory: Oceans ClimatologyMeteorologyAtmosphere\n",
       "    keywords: Sea Ice Motion,Sea Ice,Oceanography,Meteorology,Climate,Remote Sensing\n",
       "    gcmd_keywords: Cryosphere > Sea Ice > Sea Ice Motion\n",
       "Oceans > Sea Ice > Sea Ice Motion\n",
       "Geographic Region > Northern Hemisphere\n",
       "Vertical Location > Sea Surface\n",
       "EUMETSAT/OSISAF > Satellite Application Facility on Ocean and Sea Ice, European Organisation for the Exploitation of Meteorological Satellites\n",
       "    northernmost_latitude: 90.0\n",
       "    southernmost_latitude: 31.961086\n",
       "    easternmost_longitude: 180.0\n",
       "    westernmost_longitude: -180.0\n",
       "    activity_type: Space borne instrument\n",
       "    area: Northern Hemisphere\n",
       "    instrument_type: Multi-sensor analysis\n",
       "    platform_name: Multi-sensor analysis\n",
       "    start_date: 2019-02-27 12:00:00\n",
       "    stop_date: 2019-03-01 12:00:00\n",
       "    project_name: EUMETSAT OSI SAF\n",
       "    institution: EUMETSAT OSI SAF\n",
       "    PI_name: Thomas Lavergne\n",
       "    contact: osisaf-manager@met.no\n",
       "    distribution_statement: Free\n",
       "    copyright_statement: Copyright 2019 EUMETSAT\n",
       "    references: Product User Manual for OSI-405-c, Lavergne, v1.8, 2016\n",
       "Validation Report for OSI-405-c, Lavergne, v5, 2016\n",
       "Algorithm Theoretical Basis Document for OSI-405-c, Lavergne, v1.3, 2016\n",
       "http://osisaf.met.no\n",
       "http://osi-saf.org\n",
       "    history: 2019-03-02 creation\n",
       "    product_version: 2.0\n",
       "    software_version: 5.1\n",
       "    netcdf_version: 3.6.3\n",
       "    Conventions: CF-1.4\n",
       "    dimensions(sizes): time(1), nv(2), xc(119), yc(177)\n",
       "    variables(dimensions): int32 \u001b[4mPolar_Stereographic_Grid\u001b[0m(), float64 \u001b[4mtime\u001b[0m(time), float64 \u001b[4mtime_bnds\u001b[0m(time,nv), float64 \u001b[4mxc\u001b[0m(xc), float64 \u001b[4myc\u001b[0m(yc), float32 \u001b[4mlat\u001b[0m(yc,xc), float32 \u001b[4mlon\u001b[0m(yc,xc), int32 \u001b[4mdt0\u001b[0m(time,yc,xc), float32 \u001b[4mlon1\u001b[0m(time,yc,xc), float32 \u001b[4mlat1\u001b[0m(time,yc,xc), int32 \u001b[4mdt1\u001b[0m(time,yc,xc), float32 \u001b[4mdX\u001b[0m(time,yc,xc), float32 \u001b[4mdY\u001b[0m(time,yc,xc), int8 \u001b[4mstatus_flag\u001b[0m(time,yc,xc), float32 \u001b[4muncert_dX_and_dY\u001b[0m(time,yc,xc)\n",
       "    groups: "
      ]
     },
     "execution_count": 77,
     "metadata": {},
     "output_type": "execute_result"
    }
   ],
   "source": [
    "nc"
   ]
  },
  {
   "cell_type": "code",
   "execution_count": 76,
   "metadata": {},
   "outputs": [
    {
     "data": {
      "text/plain": [
       "<matplotlib.contour.QuadContourSet at 0x121b0dc18>"
      ]
     },
     "execution_count": 76,
     "metadata": {},
     "output_type": "execute_result"
    },
    {
     "data": {
      "image/png": "[encoded data removed]",
      "text/plain": [
       "<Figure size 432x288 with 1 Axes>"
      ]
     },
     "metadata": {
      "needs_background": "light"
     },
     "output_type": "display_data"
    }
   ],
   "source": [
    "import gdal\n",
    "import numpy as np\n",
    "from mayavi import mlab\n",
    "\n",
    "ds = gdal.Open('./data/tiff_raw/ice_drift_nh_polstere-625_multi-oi_201902271200-201903011200_dX_tmp.tiff')\n",
    "dem = ds.ReadAsArray()\n",
    "\n",
    "msk = dem==-10000000000 # boolean array with True at elements to be masked\n",
    "dem = np.ma.array(data=dem, mask=msk, fill_value=np.nan)\n",
    "plt.contourf(dem)"
   ]
  },
  {
   "cell_type": "code",
   "execution_count": 73,
   "metadata": {},
   "outputs": [
    {
     "name": "stdout",
     "output_type": "stream",
     "text": [
      "Collecting PyQt5\n",
      "\u001b[?25l  Downloading https://files.pythonhosted.org/packages/32/0f/0ba7fb39e89e331c3d9182f1a69421fa5461c232a85e0b55aea66b99e7ff/PyQt5-5.13.0-5.13.0-cp35.cp36.cp37.cp38-abi3-macosx_10_6_intel.whl (37.4MB)\n",
      "\u001b[K     |████████████████████████████████| 37.4MB 22.8MB/s eta 0:00:01     |██████████████████████████▋     | 31.1MB 22.8MB/s eta 0:00:01     |████████████████████████████▎   | 33.0MB 22.8MB/s eta 0:00:01\n",
      "\u001b[?25hCollecting PyQt5_sip<13,>=4.19.14 (from PyQt5)\n",
      "\u001b[?25l  Downloading https://files.pythonhosted.org/packages/ea/ab/d774f0977439a27c2be512a540a6a86740d9843dad167cf1aaaa5b9c5587/PyQt5_sip-4.19.18-cp36-cp36m-macosx_10_6_intel.whl (51kB)\n",
      "\u001b[K     |████████████████████████████████| 61kB 12.8MB/s eta 0:00:01\n",
      "\u001b[?25hInstalling collected packages: PyQt5-sip, PyQt5\n",
      "Successfully installed PyQt5-5.13.0 PyQt5-sip-4.19.18\n"
     ]
    }
   ],
   "source": [
    "!pip install PyQt5"
   ]
  }
 ],
 "metadata": {
  "kernelspec": {
   "display_name": "Python 3",
   "language": "python",
   "name": "python3"
  },
  "language_info": {
   "codemirror_mode": {
    "name": "ipython",
    "version": 3
   },
   "file_extension": ".py",
   "mimetype": "text/x-python",
   "name": "python",
   "nbconvert_exporter": "python",
   "pygments_lexer": "ipython3",
   "version": "3.6.5"
  }
 },
 "nbformat": 4,
 "nbformat_minor": 2
}

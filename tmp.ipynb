{
 "cells": [
  {
   "cell_type": "code",
   "execution_count": 6,
   "metadata": {},
   "outputs": [
    {
     "name": "stdout",
     "output_type": "stream",
     "text": [
      "The autoreload extension is already loaded. To reload it, use:\n",
      "  %reload_ext autoreload\n"
     ]
    }
   ],
   "source": [
    "%load_ext autoreload\n",
    "%autoreload 2\n",
    "import convert\n",
    "file = \"./data/nc/ice_drift_nh_polstere-625_multi-oi_201902271200-201903011200.nc\"\n",
    "convert.nc2gtiff(file)"
   ]
  },
  {
   "cell_type": "code",
   "execution_count": 37,
   "metadata": {},
   "outputs": [
    {
     "name": "stdout",
     "output_type": "stream",
     "text": [
      "90.0 31.961086\n"
     ]
    }
   ],
   "source": [
    "lat=nc.variables[\"lat\"][:]\n",
    "print(lat.max(),lat.min())"
   ]
  },
  {
   "cell_type": "code",
   "execution_count": 94,
   "metadata": {
    "scrolled": false
   },
   "outputs": [
    {
     "data": {
      "image/png": "[encoded data removed]",
      "text/plain": [
       "<Figure size 432x288 with 1 Axes>"
      ]
     },
     "metadata": {
      "needs_background": "light"
     },
     "output_type": "display_data"
    }
   ],
   "source": [
    "import matplotlib.pyplot as plt\n",
    "import numpy as np\n",
    "xa,ya=np.meshgrid(x,y)\n",
    "plt.contourf(xa,ya,nc.variables['dX'][0])\n",
    "plt.show()"
   ]
  },
  {
   "cell_type": "code",
   "execution_count": 39,
   "metadata": {},
   "outputs": [
    {
     "data": {
      "text/plain": [
       "masked_array(data=[-3750. , -3687.5, -3625. , -3562.5, -3500. , -3437.5,\n",
       "                   -3375. , -3312.5, -3250. , -3187.5, -3125. , -3062.5,\n",
       "                   -3000. , -2937.5, -2875. , -2812.5, -2750. , -2687.5,\n",
       "                   -2625. , -2562.5, -2500. , -2437.5, -2375. , -2312.5,\n",
       "                   -2250. , -2187.5, -2125. , -2062.5, -2000. , -1937.5,\n",
       "                   -1875. , -1812.5, -1750. , -1687.5, -1625. , -1562.5,\n",
       "                   -1500. , -1437.5, -1375. , -1312.5, -1250. , -1187.5,\n",
       "                   -1125. , -1062.5, -1000. ,  -937.5,  -875. ,  -812.5,\n",
       "                    -750. ,  -687.5,  -625. ,  -562.5,  -500. ,  -437.5,\n",
       "                    -375. ,  -312.5,  -250. ,  -187.5,  -125. ,   -62.5,\n",
       "                       0. ,    62.5,   125. ,   187.5,   250. ,   312.5,\n",
       "                     375. ,   437.5,   500. ,   562.5,   625. ,   687.5,\n",
       "                     750. ,   812.5,   875. ,   937.5,  1000. ,  1062.5,\n",
       "                    1125. ,  1187.5,  1250. ,  1312.5,  1375. ,  1437.5,\n",
       "                    1500. ,  1562.5,  1625. ,  1687.5,  1750. ,  1812.5,\n",
       "                    1875. ,  1937.5,  2000. ,  2062.5,  2125. ,  2187.5,\n",
       "                    2250. ,  2312.5,  2375. ,  2437.5,  2500. ,  2562.5,\n",
       "                    2625. ,  2687.5,  2750. ,  2812.5,  2875. ,  2937.5,\n",
       "                    3000. ,  3062.5,  3125. ,  3187.5,  3250. ,  3312.5,\n",
       "                    3375. ,  3437.5,  3500. ,  3562.5,  3625. ],\n",
       "             mask=False,\n",
       "       fill_value=1e+20)"
      ]
     },
     "execution_count": 39,
     "metadata": {},
     "output_type": "execute_result"
    }
   ],
   "source": [
    "x=nc.variables[\"xc\"][:]\n",
    "y=nc.variables[\"yc\"]\n",
    "x"
   ]
  },
  {
   "cell_type": "code",
   "execution_count": 45,
   "metadata": {},
   "outputs": [],
   "source": [
    "import xarray as xr\n",
    "ds =xr.open_dataset(file)\n",
    "df = ds.to_dataframe()\n"
   ]
  },
  {
   "cell_type": "code",
   "execution_count": 62,
   "metadata": {},
   "outputs": [
    {
     "data": {
      "text/plain": [
       "dict_keys([8, 9])"
      ]
     },
     "execution_count": 62,
     "metadata": {},
     "output_type": "execute_result"
    }
   ],
   "source": []
  },
  {
   "cell_type": "code",
   "execution_count": 64,
   "metadata": {},
   "outputs": [
    {
     "ename": "AttributeError",
     "evalue": "'int' object has no attribute 'keys'",
     "output_type": "error",
     "traceback": [
      "\u001b[0;31m---------------------------------------------------------------------------\u001b[0m",
      "\u001b[0;31mAttributeError\u001b[0m                            Traceback (most recent call last)",
      "\u001b[0;32m<ipython-input-64-0f7449623990>\u001b[0m in \u001b[0;36m<module>\u001b[0;34m\u001b[0m\n\u001b[1;32m      6\u001b[0m \u001b[0mfilelist\u001b[0m\u001b[0;34m=\u001b[0m\u001b[0mglob\u001b[0m\u001b[0;34m.\u001b[0m\u001b[0mglob\u001b[0m\u001b[0;34m(\u001b[0m\u001b[0;34m\"./data/nc/*.nc\"\u001b[0m\u001b[0;34m)\u001b[0m\u001b[0;34m\u001b[0m\u001b[0m\n\u001b[1;32m      7\u001b[0m \u001b[0;31m#print(filelist)\u001b[0m\u001b[0;34m\u001b[0m\u001b[0;34m\u001b[0m\u001b[0m\n\u001b[0;32m----> 8\u001b[0;31m \u001b[0msub\u001b[0m\u001b[0;34m.\u001b[0m\u001b[0mkeys\u001b[0m\u001b[0;34m(\u001b[0m\u001b[0;34m)\u001b[0m\u001b[0;34m\u001b[0m\u001b[0m\n\u001b[0m",
      "\u001b[0;31mAttributeError\u001b[0m: 'int' object has no attribute 'keys'"
     ]
    }
   ],
   "source": [
    "import glob\n",
    "import os\n",
    "sub=8\n",
    "sub_name={8:\"dX\", 9:\"dY\"}\n",
    "\n",
    "filelist=glob.glob(\"./data/nc/*.nc\")\n",
    "#print(filelist)\n",
    "sub.keys()"
   ]
  },
  {
   "cell_type": "code",
   "execution_count": 93,
   "metadata": {},
   "outputs": [
    {
     "name": "stdout",
     "output_type": "stream",
     "text": [
      "dX\n",
      "./data/tiff/ice_drift_nh_polstere-625_multi-oi_201902271200-201903011200_dX.tiff\n",
      "gdal_translate -a_srs EPSG:3413 NETCDF:'./data/nc/ice_drift_nh_polstere-625_multi-oi_201902271200-201903011200.nc':dX -of         'Gtiff' './data/tiff/ice_drift_nh_polstere-625_multi-oi_201902271200-201903011200_dX.tiff'\n",
      "0\n",
      "dY\n",
      "./data/tiff/ice_drift_nh_polstere-625_multi-oi_201902271200-201903011200_dX.tiff\n",
      "gdal_translate -a_srs EPSG:3413 NETCDF:'./data/nc/ice_drift_nh_polstere-625_multi-oi_201902271200-201903011200.nc':dY -of         'Gtiff' './data/tiff/ice_drift_nh_polstere-625_multi-oi_201902271200-201903011200_dY.tiff'\n",
      "0\n"
     ]
    }
   ],
   "source": [
    "import os\n",
    "import subprocess\n",
    "\n",
    "#variables fot roop\n",
    "for sub in sub_name.keys():\n",
    "    for input_name in filelist:\n",
    "        out_name = \"./data/tiff/{}_{}.tiff\".format(os.path.basename(input_name)[:-3],sub_name[sub])\n",
    "        c  =\"gdal_translate -a_srs EPSG:{epsg} NETCDF:'{in_name}':{sub} -of \\\n",
    "        'Gtiff' '{out_name}'\".format(epsg=3413,sub=sub_name[sub], in_name=in_name,out_name=out_name)\n",
    "        result = os.system(c)\n"
   ]
  }
 ],
 "metadata": {
  "kernelspec": {
   "display_name": "Python 3",
   "language": "python",
   "name": "python3"
  }
 },
 "nbformat": 4,
 "nbformat_minor": 2
}

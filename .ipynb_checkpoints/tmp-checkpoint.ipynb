{
 "cells": [
  {
   "cell_type": "code",
   "execution_count": 41,
   "metadata": {},
   "outputs": [
    {
     "name": "stdout",
     "output_type": "stream",
     "text": [
      "The autoreload extension is already loaded. To reload it, use:\n",
      "  %reload_ext autoreload\n",
      "nc2gtiff\n",
      "geotiff2geotiff\n",
      "nc2gtiff\n",
      "geotiff2geotiff\n"
     ]
    }
   ],
   "source": [
    "%load_ext autoreload\n",
    "%autoreload 2\n",
    "import convert\n",
    "file = \"./data/nc/ice_drift_nh_polstere-625_multi-oi_201902271200-201903011200.nc\"\n",
    "convert.nc2gtiff(file)"
   ]
  },
  {
   "cell_type": "code",
   "execution_count": 31,
   "metadata": {},
   "outputs": [
    {
     "data": {
      "text/plain": [
       "<matplotlib.contour.QuadContourSet at 0x11d954390>"
      ]
     },
     "execution_count": 31,
     "metadata": {},
     "output_type": "execute_result"
    },
    {
     "data": {
      "image/png": "[encoded data removed]",
      "text/plain": [
       "<Figure size 432x288 with 1 Axes>"
      ]
     },
     "metadata": {
      "needs_background": "light"
     },
     "output_type": "display_data"
    }
   ],
   "source": [
    "from netCDF4 import Dataset\n",
    "import matplotlib.pyplot as plt\n",
    "import numpy as np\n",
    "nc = Dataset(file)\n",
    "lat = nc.variables[\"lat\"][:]\n",
    "X = nc.variables[\"xc\"][:]\n",
    "Y = nc.variables[\"yc\"][:]\n",
    "Z = nc.variables[\"dX\"][0]\n",
    "Z[lat>85]=np.nan\n",
    "plt.contourf(X,Y,Z)"
   ]
  },
  {
   "cell_type": "code",
   "execution_count": 47,
   "metadata": {},
   "outputs": [
    {
     "data": {
      "text/plain": [
       "masked_array(data=[-3750. , -3687.5, -3625. , -3562.5, -3500. , -3437.5,\n",
       "                   -3375. , -3312.5, -3250. , -3187.5, -3125. , -3062.5,\n",
       "                   -3000. , -2937.5, -2875. , -2812.5, -2750. , -2687.5,\n",
       "                   -2625. , -2562.5, -2500. , -2437.5, -2375. , -2312.5,\n",
       "                   -2250. , -2187.5, -2125. , -2062.5, -2000. , -1937.5,\n",
       "                   -1875. , -1812.5, -1750. , -1687.5, -1625. , -1562.5,\n",
       "                   -1500. , -1437.5, -1375. , -1312.5, -1250. , -1187.5,\n",
       "                   -1125. , -1062.5, -1000. ,  -937.5,  -875. ,  -812.5,\n",
       "                    -750. ,  -687.5,  -625. ,  -562.5,  -500. ,  -437.5,\n",
       "                    -375. ,  -312.5,  -250. ,  -187.5,  -125. ,   -62.5,\n",
       "                       0. ,    62.5,   125. ,   187.5,   250. ,   312.5,\n",
       "                     375. ,   437.5,   500. ,   562.5,   625. ,   687.5,\n",
       "                     750. ,   812.5,   875. ,   937.5,  1000. ,  1062.5,\n",
       "                    1125. ,  1187.5,  1250. ,  1312.5,  1375. ,  1437.5,\n",
       "                    1500. ,  1562.5,  1625. ,  1687.5,  1750. ,  1812.5,\n",
       "                    1875. ,  1937.5,  2000. ,  2062.5,  2125. ,  2187.5,\n",
       "                    2250. ,  2312.5,  2375. ,  2437.5,  2500. ,  2562.5,\n",
       "                    2625. ,  2687.5,  2750. ,  2812.5,  2875. ,  2937.5,\n",
       "                    3000. ,  3062.5,  3125. ,  3187.5,  3250. ,  3312.5,\n",
       "                    3375. ,  3437.5,  3500. ,  3562.5,  3625. ],\n",
       "             mask=False,\n",
       "       fill_value=1e+20)"
      ]
     },
     "execution_count": 47,
     "metadata": {},
     "output_type": "execute_result"
    }
   ],
   "source": [
    "nc.variables[\"xc\"][:]"
   ]
  },
  {
   "cell_type": "code",
   "execution_count": 48,
   "metadata": {},
   "outputs": [
    {
     "data": {
      "text/plain": [
       "masked_array(data=[ 5750. ,  5687.5,  5625. ,  5562.5,  5500. ,  5437.5,\n",
       "                    5375. ,  5312.5,  5250. ,  5187.5,  5125. ,  5062.5,\n",
       "                    5000. ,  4937.5,  4875. ,  4812.5,  4750. ,  4687.5,\n",
       "                    4625. ,  4562.5,  4500. ,  4437.5,  4375. ,  4312.5,\n",
       "                    4250. ,  4187.5,  4125. ,  4062.5,  4000. ,  3937.5,\n",
       "                    3875. ,  3812.5,  3750. ,  3687.5,  3625. ,  3562.5,\n",
       "                    3500. ,  3437.5,  3375. ,  3312.5,  3250. ,  3187.5,\n",
       "                    3125. ,  3062.5,  3000. ,  2937.5,  2875. ,  2812.5,\n",
       "                    2750. ,  2687.5,  2625. ,  2562.5,  2500. ,  2437.5,\n",
       "                    2375. ,  2312.5,  2250. ,  2187.5,  2125. ,  2062.5,\n",
       "                    2000. ,  1937.5,  1875. ,  1812.5,  1750. ,  1687.5,\n",
       "                    1625. ,  1562.5,  1500. ,  1437.5,  1375. ,  1312.5,\n",
       "                    1250. ,  1187.5,  1125. ,  1062.5,  1000. ,   937.5,\n",
       "                     875. ,   812.5,   750. ,   687.5,   625. ,   562.5,\n",
       "                     500. ,   437.5,   375. ,   312.5,   250. ,   187.5,\n",
       "                     125. ,    62.5,     0. ,   -62.5,  -125. ,  -187.5,\n",
       "                    -250. ,  -312.5,  -375. ,  -437.5,  -500. ,  -562.5,\n",
       "                    -625. ,  -687.5,  -750. ,  -812.5,  -875. ,  -937.5,\n",
       "                   -1000. , -1062.5, -1125. , -1187.5, -1250. , -1312.5,\n",
       "                   -1375. , -1437.5, -1500. , -1562.5, -1625. , -1687.5,\n",
       "                   -1750. , -1812.5, -1875. , -1937.5, -2000. , -2062.5,\n",
       "                   -2125. , -2187.5, -2250. , -2312.5, -2375. , -2437.5,\n",
       "                   -2500. , -2562.5, -2625. , -2687.5, -2750. , -2812.5,\n",
       "                   -2875. , -2937.5, -3000. , -3062.5, -3125. , -3187.5,\n",
       "                   -3250. , -3312.5, -3375. , -3437.5, -3500. , -3562.5,\n",
       "                   -3625. , -3687.5, -3750. , -3812.5, -3875. , -3937.5,\n",
       "                   -4000. , -4062.5, -4125. , -4187.5, -4250. , -4312.5,\n",
       "                   -4375. , -4437.5, -4500. , -4562.5, -4625. , -4687.5,\n",
       "                   -4750. , -4812.5, -4875. , -4937.5, -5000. , -5062.5,\n",
       "                   -5125. , -5187.5, -5250. ],\n",
       "             mask=False,\n",
       "       fill_value=1e+20)"
      ]
     },
     "execution_count": 48,
     "metadata": {},
     "output_type": "execute_result"
    }
   ],
   "source": [
    "nc.variables[\"yc\"][:]"
   ]
  },
  {
   "cell_type": "code",
   "execution_count": null,
   "metadata": {
    "scrolled": false
   },
   "outputs": [
    {
     "name": "stdout",
     "output_type": "stream",
     "text": [
      "\u001b[31mError:\u001b[0m No such keg: /usr/local/Cellar/libgeotiff\n",
      "\u001b[31mError:\u001b[0m No such keg: /usr/local/Cellar/libspatialite\n",
      "\u001b[31mError:\u001b[0m No such keg: /usr/local/Cellar/netcdf\n",
      "\u001b[31mError:\u001b[0m No such keg: /usr/local/Cellar/postgresql\n",
      "\u001b[31mError:\u001b[0m No such keg: /usr/local/Cellar/gdal\n",
      "\u001b[31mError:\u001b[0m No such keg: /usr/local/Cellar/postgis\n",
      "\u001b[31mError:\u001b[0m No such keg: /usr/local/Cellar/sip\n",
      "\u001b[31mError:\u001b[0m No such keg: /usr/local/Cellar/qscintilla2\n",
      "\u001b[31mError:\u001b[0m No such keg: /usr/local/Cellar/pyqt\n",
      "Uninstalling /usr/local/Cellar/proj/5.2.0... (63 files, 10.4MB)\n",
      "\u001b[34m==>\u001b[0m \u001b[1mInstalling osgeo-libgeotiff from osgeo/osgeo4mac\u001b[0m\n",
      "\u001b[32m==>\u001b[0m \u001b[1mInstalling dependencies for osgeo/osgeo4mac/osgeo-libgeotiff: \u001b[32mlibtiff\u001b[39m and \u001b[32mosgeo-proj\u001b[39m\u001b[0m\n",
      "\u001b[32m==>\u001b[0m \u001b[1mInstalling osgeo/osgeo4mac/osgeo-libgeotiff dependency: \u001b[32mlibtiff\u001b[39m\u001b[0m\n",
      "\u001b[34m==>\u001b[0m \u001b[1mDownloading https://homebrew.bintray.com/bottles/libtiff-4.0.10_1.mojave.bot\u001b[0m\n",
      "\u001b[34m==>\u001b[0m \u001b[1mDownloading from https://akamai.bintray.com/6e/6ecdca6159e5e4db0ec0fcbddbc76\u001b[0m\n",
      "######################################################################## 100.0%\n",
      "\u001b[34m==>\u001b[0m \u001b[1mPouring libtiff-4.0.10_1.mojave.bottle.tar.gz\u001b[0m\n",
      "🍺  /usr/local/Cellar/libtiff/4.0.10_1: 246 files, 3.5MB\n",
      "\u001b[32m==>\u001b[0m \u001b[1mInstalling osgeo/osgeo4mac/osgeo-libgeotiff dependency: \u001b[32mosgeo-proj\u001b[39m\u001b[0m\n",
      "\u001b[34m==>\u001b[0m \u001b[1mDownloading https://bottle.download.osgeo.org/osgeo-proj-5.2.0.mojave.bottle\u001b[0m\n",
      "######################################################################## 100.0%\n",
      "\u001b[34m==>\u001b[0m \u001b[1mPouring osgeo-proj-5.2.0.mojave.bottle.tar.gz\u001b[0m\n",
      "\u001b[31mError:\u001b[0m The `brew link` step did not complete successfully\n",
      "The formula built, but is not symlinked into /usr/local\n",
      "Could not symlink bin/proj\n",
      "Target /usr/local/bin/proj\n",
      "already exists. You may want to remove it:\n",
      "  rm '/usr/local/bin/proj'\n",
      "\n",
      "To force the link and overwrite all conflicting files:\n",
      "  brew link --overwrite osgeo-proj\n",
      "\n",
      "To list all files that would be deleted:\n",
      "  brew link --overwrite --dry-run osgeo-proj\n",
      "\n",
      "Possible conflicting files are:\n",
      "/usr/local/bin/proj\n",
      "\u001b[34m==>\u001b[0m \u001b[1mSummary\u001b[0m\n",
      "🍺  /usr/local/Cellar/osgeo-proj/5.2.0: 65 files, 10.4MB\n",
      "\u001b[32m==>\u001b[0m \u001b[1mInstalling \u001b[32mosgeo/osgeo4mac/osgeo-libgeotiff\u001b[39m\u001b[0m\n",
      "\u001b[34m==>\u001b[0m \u001b[1mDownloading https://bottle.download.osgeo.org/osgeo-libgeotiff-1.4.3.mojave.\u001b[0m\n",
      "######################################################################## 100.0%\n",
      "\u001b[34m==>\u001b[0m \u001b[1mPouring osgeo-libgeotiff-1.4.3.mojave.bottle.tar.gz\u001b[0m\n",
      "🍺  /usr/local/Cellar/osgeo-libgeotiff/1.4.3: 70 files, 7.3MB\n",
      "\u001b[34m==>\u001b[0m \u001b[1mInstalling osgeo-libspatialite from osgeo/osgeo4mac\u001b[0m\n",
      "\u001b[32m==>\u001b[0m \u001b[1mInstalling dependencies for osgeo/osgeo4mac/osgeo-libspatialite: \u001b[32mpython\u001b[39m, \u001b[32mgeos\u001b[39m and \u001b[32mlibxml2\u001b[39m\u001b[0m\n",
      "\u001b[31mError:\u001b[0m python is already installed from !\n",
      "Please `brew uninstall python` first.\"\n",
      "\u001b[33mWarning:\u001b[0m osgeo/osgeo4mac/osgeo-netcdf 4.7.0 is already installed and up-to-date\n",
      "To reinstall 4.7.0, run `brew reinstall osgeo-netcdf`\n",
      "\u001b[34m==>\u001b[0m \u001b[1mInstalling osgeo-postgresql from osgeo/osgeo4mac\u001b[0m\n",
      "\u001b[32m==>\u001b[0m \u001b[1mInstalling dependencies for osgeo/osgeo4mac/osgeo-postgresql: \u001b[32mpython\u001b[39m, \u001b[32mlibxml2\u001b[39m, \u001b[32mpython2\u001b[39m and \u001b[32mperl\u001b[39m\u001b[0m\n",
      "\u001b[31mError:\u001b[0m python is already installed from !\n",
      "Please `brew uninstall python` first.\"\n",
      "\u001b[34m==>\u001b[0m \u001b[1mInstalling osgeo-gdal from osgeo/osgeo4mac\u001b[0m\n",
      "\u001b[32m==>\u001b[0m \u001b[1mInstalling dependencies for osgeo/osgeo4mac/osgeo-gdal: \u001b[32mlibiconv\u001b[39m, \u001b[32mexpat\u001b[39m, \u001b[32mqhull\u001b[39m, \u001b[32mbrotli\u001b[39m, \u001b[32mc-ares\u001b[39m, \u001b[32mlibidn\u001b[39m, \u001b[32mlibmetalink\u001b[39m, \u001b[32mlibssh2\u001b[39m, \u001b[32mjansson\u001b[39m, \u001b[32mjemalloc\u001b[39m, \u001b[32mlibev\u001b[39m, \u001b[32mlibevent\u001b[39m, \u001b[32mnghttp2\u001b[39m, \u001b[32mcurl-openssl\u001b[39m, \u001b[32mlibpng\u001b[39m, \u001b[32mpython\u001b[39m, \u001b[32mgeos\u001b[39m, \u001b[32mjpeg-turbo\u001b[39m, \u001b[32mlibpq\u001b[39m, \u001b[32mpython@2\u001b[39m, \u001b[32mnumpy\u001b[39m, \u001b[32mhwloc\u001b[39m, \u001b[32mopen-mpi\u001b[39m, \u001b[32marpack\u001b[39m, \u001b[32marmadillo\u001b[39m, \u001b[32mboost\u001b[39m, \u001b[32mcgal\u001b[39m, \u001b[32msfcgal\u001b[39m, \u001b[32mant\u001b[39m, \u001b[32mglib\u001b[39m, \u001b[32mmdbtools\u001b[39m, \u001b[32mlibzip\u001b[39m, \u001b[32mcryptopp\u001b[39m, \u001b[32mlibxml2\u001b[39m, \u001b[32mosgeo-libspatialite\u001b[39m, \u001b[32mosgeo-libkml\u001b[39m, \u001b[32mosgeo-hdf4\u001b[39m, \u001b[32mjasper\u001b[39m, \u001b[32mlibdap\u001b[39m, \u001b[32mopenjpeg\u001b[39m, \u001b[32mzstd\u001b[39m, \u001b[32mwebp\u001b[39m, \u001b[32mpython2\u001b[39m, \u001b[32mperl\u001b[39m and \u001b[32mosgeo-postgresql\u001b[39m\u001b[0m\n",
      "\u001b[32m==>\u001b[0m \u001b[1mInstalling osgeo/osgeo4mac/osgeo-gdal dependency: \u001b[32mlibiconv\u001b[39m\u001b[0m\n",
      "\u001b[34m==>\u001b[0m \u001b[1mDownloading https://homebrew.bintray.com/bottles/libiconv-1.16.mojave.bottle\u001b[0m\n",
      "\u001b[34m==>\u001b[0m \u001b[1mDownloading from https://akamai.bintray.com/76/7638dd8e2d511a2ce14c6c420762c\u001b[0m\n",
      "######################################################################## 100.0%\n",
      "\u001b[34m==>\u001b[0m \u001b[1mPouring libiconv-1.16.mojave.bottle.tar.gz\u001b[0m\n",
      "\u001b[34m==>\u001b[0m \u001b[1mCaveats\u001b[0m\n",
      "libiconv is keg-only, which means it was not symlinked into /usr/local,\n",
      "because macOS already provides this software and installing another version in\n",
      "parallel can cause all kinds of trouble.\n",
      "\n",
      "If you need to have libiconv first in your PATH run:\n",
      "  echo 'export PATH=\"/usr/local/opt/libiconv/bin:$PATH\"' >> ~/.bash_profile\n",
      "\n",
      "For compilers to find libiconv you may need to set:\n",
      "  export LDFLAGS=\"-L/usr/local/opt/libiconv/lib\"\n",
      "  export CPPFLAGS=\"-I/usr/local/opt/libiconv/include\"\n",
      "\n",
      "\u001b[34m==>\u001b[0m \u001b[1mSummary\u001b[0m\n",
      "🍺  /usr/local/Cellar/libiconv/1.16: 30 files, 2.4MB\n",
      "\u001b[32m==>\u001b[0m \u001b[1mInstalling osgeo/osgeo4mac/osgeo-gdal dependency: \u001b[32mexpat\u001b[39m\u001b[0m\n",
      "\u001b[34m==>\u001b[0m \u001b[1mDownloading https://homebrew.bintray.com/bottles/expat-2.2.7.mojave.bottle.t\u001b[0m\n",
      "######################################################################## 100.0%\n",
      "\u001b[34m==>\u001b[0m \u001b[1mPouring expat-2.2.7.mojave.bottle.tar.gz\u001b[0m\n",
      "\u001b[34m==>\u001b[0m \u001b[1mCaveats\u001b[0m\n",
      "expat is keg-only, which means it was not symlinked into /usr/local,\n",
      "because macOS already provides this software and installing another version in\n",
      "parallel can cause all kinds of trouble.\n",
      "\n",
      "If you need to have expat first in your PATH run:\n",
      "  echo 'export PATH=\"/usr/local/opt/expat/bin:$PATH\"' >> ~/.bash_profile\n",
      "\n",
      "For compilers to find expat you may need to set:\n",
      "  export LDFLAGS=\"-L/usr/local/opt/expat/lib\"\n",
      "  export CPPFLAGS=\"-I/usr/local/opt/expat/include\"\n",
      "\n",
      "For pkg-config to find expat you may need to set:\n",
      "  export PKG_CONFIG_PATH=\"/usr/local/opt/expat/lib/pkgconfig\"\n",
      "\n",
      "\u001b[34m==>\u001b[0m \u001b[1mSummary\u001b[0m\n",
      "🍺  /usr/local/Cellar/expat/2.2.7: 17 files, 434KB\n",
      "\u001b[32m==>\u001b[0m \u001b[1mInstalling osgeo/osgeo4mac/osgeo-gdal dependency: \u001b[32mqhull\u001b[39m\u001b[0m\n",
      "\u001b[34m==>\u001b[0m \u001b[1mDownloading https://homebrew.bintray.com/bottles/qhull-2015.2.mojave.bottle.\u001b[0m\n",
      "\u001b[34m==>\u001b[0m \u001b[1mDownloading from https://akamai.bintray.com/33/33b41bad4871bd781b91ca4c418a1\u001b[0m\n",
      "######################################################################## 100.0%\n",
      "\u001b[34m==>\u001b[0m \u001b[1mPouring qhull-2015.2.mojave.bottle.tar.gz\u001b[0m\n",
      "🍺  /usr/local/Cellar/qhull/2015.2: 132 files, 5MB\n",
      "\u001b[32m==>\u001b[0m \u001b[1mInstalling osgeo/osgeo4mac/osgeo-gdal dependency: \u001b[32mbrotli\u001b[39m\u001b[0m\n",
      "\u001b[34m==>\u001b[0m \u001b[1mDownloading https://homebrew.bintray.com/bottles/brotli-1.0.7.mojave.bottle.\u001b[0m\n",
      "\u001b[34m==>\u001b[0m \u001b[1mDownloading from https://akamai.bintray.com/d2/d2d4f821f8d9c52de15a4d3b5ddea\u001b[0m\n",
      "######################################################################## 100.0%\n",
      "\u001b[34m==>\u001b[0m \u001b[1mPouring brotli-1.0.7.mojave.bottle.tar.gz\u001b[0m\n",
      "🍺  /usr/local/Cellar/brotli/1.0.7: 25 files, 2.2MB\n",
      "\u001b[32m==>\u001b[0m \u001b[1mInstalling osgeo/osgeo4mac/osgeo-gdal dependency: \u001b[32mc-ares\u001b[39m\u001b[0m\n",
      "\u001b[34m==>\u001b[0m \u001b[1mDownloading https://homebrew.bintray.com/bottles/c-ares-1.15.0.mojave.bottle\u001b[0m\n",
      "######################################################################## 100.0%\n",
      "\u001b[34m==>\u001b[0m \u001b[1mPouring c-ares-1.15.0.mojave.bottle.tar.gz\u001b[0m\n",
      "🍺  /usr/local/Cellar/c-ares/1.15.0: 72 files, 482.6KB\n",
      "\u001b[32m==>\u001b[0m \u001b[1mInstalling osgeo/osgeo4mac/osgeo-gdal dependency: \u001b[32mlibidn\u001b[39m\u001b[0m\n",
      "\u001b[34m==>\u001b[0m \u001b[1mDownloading https://homebrew.bintray.com/bottles/libidn-1.35.mojave.bottle.t\u001b[0m\n",
      "\u001b[34m==>\u001b[0m \u001b[1mDownloading from https://akamai.bintray.com/d3/d3741facdecc039b53d64392b6f8f\u001b[0m\n",
      "######################################################################## 100.0%\n",
      "\u001b[34m==>\u001b[0m \u001b[1mPouring libidn-1.35.mojave.bottle.tar.gz\u001b[0m\n",
      "\u001b[34m==>\u001b[0m \u001b[1mCaveats\u001b[0m\n",
      "Emacs Lisp files have been installed to:\n",
      "  /usr/local/share/emacs/site-lisp/libidn\n",
      "\u001b[34m==>\u001b[0m \u001b[1mSummary\u001b[0m\n",
      "🍺  /usr/local/Cellar/libidn/1.35: 72 files, 1.4MB\n",
      "\u001b[32m==>\u001b[0m \u001b[1mInstalling osgeo/osgeo4mac/osgeo-gdal dependency: \u001b[32mlibmetalink\u001b[39m\u001b[0m\n"
     ]
    },
    {
     "name": "stdout",
     "output_type": "stream",
     "text": [
      "\u001b[34m==>\u001b[0m \u001b[1mDownloading https://homebrew.bintray.com/bottles/libmetalink-0.1.3.mojave.bo\u001b[0m\n",
      "######################################################################## 100.0%\n",
      "\u001b[34m==>\u001b[0m \u001b[1mPouring libmetalink-0.1.3.mojave.bottle.tar.gz\u001b[0m\n",
      "🍺  /usr/local/Cellar/libmetalink/0.1.3: 31 files, 178.9KB\n",
      "\u001b[32m==>\u001b[0m \u001b[1mInstalling osgeo/osgeo4mac/osgeo-gdal dependency: \u001b[32mlibssh2\u001b[39m\u001b[0m\n",
      "\u001b[34m==>\u001b[0m \u001b[1mDownloading https://homebrew.bintray.com/bottles/libssh2-1.9.0.mojave.bottle\u001b[0m\n",
      "\u001b[34m==>\u001b[0m \u001b[1mDownloading from https://akamai.bintray.com/02/0226917e00c2f5c003c441c11d068\u001b[0m\n",
      "######################################################################## 100.0%\n",
      "\u001b[34m==>\u001b[0m \u001b[1mPouring libssh2-1.9.0.mojave.bottle.tar.gz\u001b[0m\n",
      "🍺  /usr/local/Cellar/libssh2/1.9.0: 184 files, 911.9KB\n",
      "\u001b[32m==>\u001b[0m \u001b[1mInstalling osgeo/osgeo4mac/osgeo-gdal dependency: \u001b[32mjansson\u001b[39m\u001b[0m\n",
      "\u001b[34m==>\u001b[0m \u001b[1mDownloading https://homebrew.bintray.com/bottles/jansson-2.12.mojave.bottle.\u001b[0m\n",
      "######################################################################## 100.0%\n",
      "\u001b[34m==>\u001b[0m \u001b[1mPouring jansson-2.12.mojave.bottle.tar.gz\u001b[0m\n",
      "🍺  /usr/local/Cellar/jansson/2.12: 11 files, 157.5KB\n",
      "\u001b[32m==>\u001b[0m \u001b[1mInstalling osgeo/osgeo4mac/osgeo-gdal dependency: \u001b[32mjemalloc\u001b[39m\u001b[0m\n",
      "\u001b[34m==>\u001b[0m \u001b[1mDownloading https://homebrew.bintray.com/bottles/jemalloc-5.2.1.mojave.bottl\u001b[0m\n",
      "\u001b[34m==>\u001b[0m \u001b[1mDownloading from https://akamai.bintray.com/9f/9fbc2052929cedb26b55bf21d0ac5\u001b[0m\n",
      "######################################################################## 100.0%\n",
      "\u001b[34m==>\u001b[0m \u001b[1mPouring jemalloc-5.2.1.mojave.bottle.tar.gz\u001b[0m\n",
      "🍺  /usr/local/Cellar/jemalloc/5.2.1: 16 files, 1.9MB\n",
      "\u001b[32m==>\u001b[0m \u001b[1mInstalling osgeo/osgeo4mac/osgeo-gdal dependency: \u001b[32mlibev\u001b[39m\u001b[0m\n",
      "\u001b[34m==>\u001b[0m \u001b[1mDownloading https://homebrew.bintray.com/bottles/libev-4.27.mojave.bottle.ta\u001b[0m\n",
      "######################################################################## 100.0%\n",
      "\u001b[34m==>\u001b[0m \u001b[1mPouring libev-4.27.mojave.bottle.tar.gz\u001b[0m\n",
      "🍺  /usr/local/Cellar/libev/4.27: 12 files, 438.6KB\n",
      "\u001b[32m==>\u001b[0m \u001b[1mInstalling osgeo/osgeo4mac/osgeo-gdal dependency: \u001b[32mlibevent\u001b[39m\u001b[0m\n",
      "\u001b[34m==>\u001b[0m \u001b[1mDownloading https://homebrew.bintray.com/bottles/libevent-2.1.11.mojave.bott\u001b[0m\n",
      "\u001b[34m==>\u001b[0m \u001b[1mDownloading from https://akamai.bintray.com/0a/0a8ab56e634a686654b83cfa5a94e\u001b[0m\n",
      "######################################################################## 100.0%\n",
      "\u001b[34m==>\u001b[0m \u001b[1mPouring libevent-2.1.11.mojave.bottle.tar.gz\u001b[0m\n"
     ]
    }
   ],
   "source": [
    "!for f in libgeotiff libspatialite netcdf postgresql gdal postgis sip qscintilla2 pyqt proj; do brew uninstall --ignore-dependencies $f; done\n",
    "!for f in libgeotiff libspatialite netcdf postgresql gdal postgis sip qscintilla2 pyqt proj; do brew install osgeo-$f; done\n",
    "!brew tap osgeo/osgeo4mac\n",
    "!brew install gdal2"
   ]
  },
  {
   "cell_type": "code",
   "execution_count": null,
   "metadata": {},
   "outputs": [],
   "source": [
    "!pip3 install gdal"
   ]
  }
 ],
 "metadata": {
  "kernelspec": {
   "display_name": "Python 3",
   "language": "python",
   "name": "python3"
  },
  "language_info": {
   "codemirror_mode": {
    "name": "ipython",
    "version": 3
   },
   "file_extension": ".py",
   "mimetype": "text/x-python",
   "name": "python",
   "nbconvert_exporter": "python",
   "pygments_lexer": "ipython3",
   "version": "3.6.5"
  }
 },
 "nbformat": 4,
 "nbformat_minor": 2
}
